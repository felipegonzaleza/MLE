{
 "cells": [
  {
   "cell_type": "markdown",
   "metadata": {
    "id": "LBg-xdjvhQh2"
   },
   "source": [
    "# This code implements Zero Shot Learning (ZSL) , or learning when NO prior similar Training data has been encountered!\n",
    "\n",
    "This code uses a modified version of Shrisha Bharadwaj's work at \n",
    "https://github.com/sbharadwajj/embarrassingly-simple-zero-shot-learning\n",
    "\n",
    "The Base paper is:\n",
    "An embarrassingly simple approach to zero-shot learning http://proceedings.mlr.press/v37/romera-paredes15.pdf\n"
   ]
  },
  {
   "cell_type": "markdown",
   "metadata": {
    "id": "17ApZX11hQh3"
   },
   "source": [
    "# We start with the Data"
   ]
  },
  {
   "cell_type": "markdown",
   "metadata": {
    "id": "oAI46GeVC7kL"
   },
   "source": [
    "### Initially load necessary libraries"
   ]
  },
  {
   "cell_type": "code",
   "execution_count": 1,
   "metadata": {
    "id": "7RcE24FLhQh3"
   },
   "outputs": [],
   "source": [
    "import numpy as np\n",
    "import os\n",
    "import scipy.io\n",
    "from sklearn.metrics import classification_report, confusion_matrix"
   ]
  },
  {
   "cell_type": "markdown",
   "metadata": {
    "id": "FnRBqKPUDDZZ"
   },
   "source": [
    "### We'll be using the CUB dataset. CUB referes to Caltech UCSD Birds data set with images of 788 images from 200 different types of birds annotated with 312 attributes.\n",
    "\n",
    "You can obtain it or similar datasets (such as AWA1 or SUN) [here](https://www.mpi-inf.mpg.de/departments/computer-vision-and-machine-learning/research/zero-shot-learning/zero-shot-learning-the-good-the-bad-and-the-ugly/)."
   ]
  },
  {
   "cell_type": "markdown",
   "metadata": {
    "id": "AQqh5DMaq9QW"
   },
   "source": [
    "## The following cells apply for Google Colab users.\n",
    "### Run the following cells first. Make sure you've placed the csv data and figures in the same Google Drive folder as this notebook."
   ]
  },
  {
   "cell_type": "code",
   "execution_count": null,
   "metadata": {
    "id": "8n75mujnrqU4"
   },
   "outputs": [],
   "source": [
    "!pip install -U -q PyDrive\n",
    "from pydrive.auth import GoogleAuth\n",
    "from pydrive.drive import GoogleDrive\n",
    "from google.colab import auth\n",
    "from oauth2client.client import GoogleCredentials"
   ]
  },
  {
   "cell_type": "code",
   "execution_count": null,
   "metadata": {
    "id": "HT1yuyN5zJ19"
   },
   "outputs": [],
   "source": [
    "auth.authenticate_user()\n",
    "gauth = GoogleAuth()\n",
    "gauth.credentials = GoogleCredentials.get_application_default()\n",
    "drive = GoogleDrive(gauth)"
   ]
  },
  {
   "cell_type": "markdown",
   "metadata": {
    "id": "q6AR4c7ivMtD"
   },
   "source": [
    "Replace the ID with ID of file you want to access. To get this ID: \n",
    "\n",
    "1.   Right-click on the name of the appropriate file in your Google Drive\n",
    "2.   Click \"Get link\"\n",
    "3.   Copy the characters between `d/` and the following slash\n",
    "4.   Paste them into the dictionary argument of the call to `drive.CreateFile()` as the value associated with the 'id' key. Make sure that this value is a string.\n",
    "\n"
   ]
  },
  {
   "cell_type": "code",
   "execution_count": null,
   "metadata": {
    "id": "mb5xkL1QzPYg"
   },
   "outputs": [],
   "source": [
    "# Replace the ID with ID of file you want to access\n",
    "cub_res101 = drive.CreateFile({'id':'1QSLo_bKWyUTSYbYtGmufwzB2PSFoOJwG'}) \n",
    "cub_res101.GetContentFile('res101.mat') \n",
    "cub_att_splits = drive.CreateFile({'id':'1TtR3H0zfm8NeETRlOKbiSru3rhtdJTey'}) \n",
    "cub_att_splits.GetContentFile('att_splits.mat')"
   ]
  },
  {
   "cell_type": "markdown",
   "metadata": {
    "id": "TIHe-Xi13U_h"
   },
   "source": [
    "## If you are working on Jupyter notebook, download the CUB folder and put it in the same location as the notebook file."
   ]
  },
  {
   "cell_type": "markdown",
   "metadata": {
    "id": "qdyK3-4OhQh_"
   },
   "source": [
    "### From the .mat files extract all the features from resnet and the attribute splits. \n",
    "- `res101` contains features and the corresponding labels.\n",
    "- `att_splits` contains the different splits for trainval:{train, val} and test set. So the `att_splits` data stores locations of the train, validation and test spilt data only.\n",
    "- `att_splits` contains the labels corresponding to "
   ]
  },
  {
   "cell_type": "code",
   "execution_count": 26,
   "metadata": {},
   "outputs": [
    {
     "data": {
      "text/plain": [
       "'/Users/felipegonzalezalvarado/Downloads'"
      ]
     },
     "execution_count": 26,
     "metadata": {},
     "output_type": "execute_result"
    }
   ],
   "source": [
    "os.getcwd()"
   ]
  },
  {
   "cell_type": "code",
   "execution_count": 30,
   "metadata": {},
   "outputs": [
    {
     "name": "stdout",
     "output_type": "stream",
     "text": [
      "File Name                                             Modified             Size\n",
      "CUB/                                           2018-01-31 02:26:18            0\n",
      "CUB/res101.mat                                 2018-01-31 02:26:18     96995981\n",
      "CUB/trainvalclasses.txt                        2018-01-31 02:26:18         3058\n",
      "CUB/valclasses1.txt                            2018-01-31 02:26:02         1014\n",
      "CUB/allclasses.txt                             2018-01-31 02:26:02         4131\n",
      "CUB/trainclasses1.txt                          2018-01-31 02:26:18         2044\n",
      "CUB/valclasses3.txt                            2018-01-31 02:26:02         1059\n",
      "CUB/att_splits.mat                             2020-08-21 01:37:48       493894\n",
      "CUB/trainclasses2.txt                          2018-01-31 02:26:02         2038\n",
      "CUB/testclasses.txt                            2018-01-31 02:26:18         1074\n",
      "CUB/valclasses2.txt                            2018-01-31 02:26:18         1020\n",
      "CUB/trainclasses3.txt                          2018-01-31 02:26:02         1999\n",
      "Extracting all the files now...\n",
      "Done!\n"
     ]
    }
   ],
   "source": [
    "\n",
    "# importing required modules\n",
    "from zipfile import ZipFile\n",
    "  \n",
    "# specifying the zip file name\n",
    "file_name = \"CUB.zip\"\n",
    "  \n",
    "# opening the zip file in READ mode\n",
    "with ZipFile(file_name, 'r') as zip:\n",
    "    # printing all the contents of the zip file\n",
    "    zip.printdir()\n",
    "  \n",
    "    # extracting all the files\n",
    "    print('Extracting all the files now...')\n",
    "    zip.extractall()\n",
    "    print('Done!')"
   ]
  },
  {
   "cell_type": "code",
   "execution_count": 33,
   "metadata": {
    "id": "_8-yqE4fhQiA"
   },
   "outputs": [],
   "source": [
    "dataset='CUB'\n",
    "#res101 = scipy.io.loadmat('/Users/felipegonzalezalvarado/Downloads'+dataset+'/res101.mat')\n",
    "#att_splits = scipy.io.loadmat('./'+dataset+'/att_splits.mat')\n",
    "\n",
    "res101 = scipy.io.loadmat('CUB/res101.mat')\n",
    "att_splits = scipy.io.loadmat('./'+dataset+'/att_splits.mat')"
   ]
  },
  {
   "cell_type": "markdown",
   "metadata": {
    "id": "0k26nKM2hQiP"
   },
   "source": [
    "## Examine the `res101` and `att_splits` dictionaries and understand their fields"
   ]
  },
  {
   "cell_type": "code",
   "execution_count": 34,
   "metadata": {
    "colab": {
     "base_uri": "https://localhost:8080/"
    },
    "id": "bZIA3fHlhQiC",
    "outputId": "45aab6ff-d885-431e-d461-2e59215c0ee7"
   },
   "outputs": [
    {
     "data": {
      "text/plain": [
       "dict_keys(['__header__', '__version__', '__globals__', 'image_files', 'features', 'labels'])"
      ]
     },
     "execution_count": 34,
     "metadata": {},
     "output_type": "execute_result"
    }
   ],
   "source": [
    "res101.keys()"
   ]
  },
  {
   "cell_type": "code",
   "execution_count": 35,
   "metadata": {
    "colab": {
     "base_uri": "https://localhost:8080/"
    },
    "id": "L1uKeRbThQiF",
    "outputId": "1557c5d9-4eee-407d-8f88-c2bf8c8196ee"
   },
   "outputs": [
    {
     "data": {
      "text/plain": [
       "dict_keys(['__header__', '__version__', '__globals__', 'allclasses_names', 'att', 'original_att', 'test_seen_loc', 'test_unseen_loc', 'train_loc', 'trainval_loc', 'val_loc'])"
      ]
     },
     "execution_count": 35,
     "metadata": {},
     "output_type": "execute_result"
    }
   ],
   "source": [
    "att_splits.keys()"
   ]
  },
  {
   "cell_type": "markdown",
   "metadata": {
    "id": "dih1pUMUhQiS"
   },
   "source": [
    "# Let's understand the data sets first:\n",
    "1. `res101` contains a features array $X$ of shape (`n_features`, `n_samples`) = (2048, 11788). These 11788 samples are divided to train, validation and test. The 2048 features correspond to the FC layer output from resnet 101.\n",
    "2. Each of the 11788 samples has one of `n_classes` = 200 unique labels.\n",
    "3. Each label corresponds to an animal that is further represented by a signature/category vector of dimension `n_attributes` = 312.\n",
    "4. Thus, `att_splits` contains a signature/category array of shape (`n_attributes`, `n_classes`) = (312, 200). Call this $S$.\n",
    "5. Our goal is to estimate $W = (V \\cdot S)^T$ and $\\hat{Y} = X^T \\cdot V \\cdot S = (W \\cdot X)^T$. \n",
    "6. $V$, in turn, is an array of shape (`n_features`, `n_attributes`) = (2048, 312) which we will compute later."
   ]
  },
  {
   "cell_type": "code",
   "execution_count": 36,
   "metadata": {
    "colab": {
     "base_uri": "https://localhost:8080/"
    },
    "id": "MS9LtuVuhQiP",
    "outputId": "6a57381f-c2fa-44b2-e94b-f1eabf8f81d3"
   },
   "outputs": [
    {
     "name": "stdout",
     "output_type": "stream",
     "text": [
      "Shape of the features array  = (2048, 11788)\n",
      "Shape of the signature array = (312, 200)\n"
     ]
    }
   ],
   "source": [
    "print(f\"Shape of the features array  = {res101['features'].shape}\")\n",
    "print(f\"Shape of the signature array = {att_splits['att'].shape}\")"
   ]
  },
  {
   "cell_type": "markdown",
   "metadata": {
    "id": "-bw006lcfixc"
   },
   "source": [
    "### Verify that our data contains 200 unique labels"
   ]
  },
  {
   "cell_type": "code",
   "execution_count": 46,
   "metadata": {},
   "outputs": [],
   "source": [
    "#Using the correct naming conventions to get the loctions\n",
    "trainval_loc = 'trainval_loc'\n",
    "train_loc = 'train_loc'\n",
    "val_loc = 'val_loc'\n",
    "test_loc = 'test_unseen_loc'"
   ]
  },
  {
   "cell_type": "code",
   "execution_count": 37,
   "metadata": {
    "colab": {
     "base_uri": "https://localhost:8080/"
    },
    "id": "2Q6MdY3EhQiT",
    "outputId": "6c573912-47c2-46d7-d5e7-cf3e4d3c767b"
   },
   "outputs": [
    {
     "name": "stdout",
     "output_type": "stream",
     "text": [
      "(11788, 1)\n",
      "[  1   2   3   4   5   6   7   8   9  10  11  12  13  14  15  16  17  18\n",
      "  19  20  21  22  23  24  25  26  27  28  29  30  31  32  33  34  35  36\n",
      "  37  38  39  40  41  42  43  44  45  46  47  48  49  50  51  52  53  54\n",
      "  55  56  57  58  59  60  61  62  63  64  65  66  67  68  69  70  71  72\n",
      "  73  74  75  76  77  78  79  80  81  82  83  84  85  86  87  88  89  90\n",
      "  91  92  93  94  95  96  97  98  99 100 101 102 103 104 105 106 107 108\n",
      " 109 110 111 112 113 114 115 116 117 118 119 120 121 122 123 124 125 126\n",
      " 127 128 129 130 131 132 133 134 135 136 137 138 139 140 141 142 143 144\n",
      " 145 146 147 148 149 150 151 152 153 154 155 156 157 158 159 160 161 162\n",
      " 163 164 165 166 167 168 169 170 171 172 173 174 175 176 177 178 179 180\n",
      " 181 182 183 184 185 186 187 188 189 190 191 192 193 194 195 196 197 198\n",
      " 199 200]\n",
      "200\n"
     ]
    }
   ],
   "source": [
    "labels = res101['labels']\n",
    "print(np.shape(labels))\n",
    "print(np.unique(labels))\n",
    "print(len(np.unique(labels)))"
   ]
  },
  {
   "cell_type": "markdown",
   "metadata": {
    "id": "q_actSwNhQiV"
   },
   "source": [
    "### We need the corresponding ground-truth labels/classes for each training example for all our train, val, trainval, and test sets according to the split locations provided. In this example we have used the `CUB` dataset, which has 200 unique classes overall."
   ]
  },
  {
   "cell_type": "code",
   "execution_count": 38,
   "metadata": {
    "id": "mLCBRvE_hQiW"
   },
   "outputs": [],
   "source": [
    "labels_train = labels[np.squeeze(att_splits['train_loc']-1)]\n",
    "labels_val = labels[np.squeeze(att_splits['val_loc']-1)]\n",
    "labels_trainval = labels[np.squeeze(att_splits['trainval_loc']-1)]\n",
    "labels_test = labels[np.squeeze(att_splits['test_unseen_loc']-1)]"
   ]
  },
  {
   "cell_type": "code",
   "execution_count": 39,
   "metadata": {
    "colab": {
     "base_uri": "https://localhost:8080/"
    },
    "id": "5vYrGNdahQiY",
    "outputId": "d59d6f29-efbf-41a3-c146-90fdb81630fa"
   },
   "outputs": [
    {
     "name": "stdout",
     "output_type": "stream",
     "text": [
      "(4702, 1)\n"
     ]
    },
    {
     "data": {
      "text/plain": [
       "array([[197, 198,  31,  25,  22,  86,  28, 136, 190, 177,  43,  17, 194,\n",
       "         90,  97,  13,  16,  73,  18, 144,  70,   2, 109, 194,  27, 190,\n",
       "         18,  43, 106, 149, 169,  27,  47,  67,  90,  18,  75,  57, 172,\n",
       "         27,  57,  11, 134,  26, 169, 164,  97, 162,  11,   9, 199, 126,\n",
       "          8,  23,  78,  81,  99, 178,  81, 197,  60,  54,  81, 106,  30,\n",
       "        106,  17, 181, 198,  25,  27,   2,  22,  16, 103,  54,  28,  27,\n",
       "        128, 114, 114,  48,  22,  31,  13,  85,   1, 169,  15,   1,  67,\n",
       "         26,  96, 114,  60,  96,  13,  89,  20, 153]], dtype=uint8)"
      ]
     },
     "execution_count": 39,
     "metadata": {},
     "output_type": "execute_result"
    }
   ],
   "source": [
    "print(np.shape(labels_train))\n",
    "labels_train[:100,:].T"
   ]
  },
  {
   "cell_type": "markdown",
   "metadata": {
    "id": "q_B3YnWZhQic"
   },
   "source": [
    "### In a typical zero-shot learning scenario, there are no overlapping classes between training and testing phase, i.e the train classes are completely different from the test classes. So let us verify if there are any overlapping classes in the test and train scenario. Within each phase/split, we have `n_classes_split` unique classes. \n",
    "### Let's verify that all of the labels in our dataset are represented in either our `trainval` or `test` splits that none of the labels in the `trainval` and `test` splits overlap, and likewise that none of the labels in the `train` and `val` splits overlap."
   ]
  },
  {
   "cell_type": "code",
   "execution_count": 40,
   "metadata": {
    "colab": {
     "base_uri": "https://localhost:8080/"
    },
    "id": "VH3NvQWIhQic",
    "outputId": "5dad1fd1-c742-434a-8878-4c7b8d2462db"
   },
   "outputs": [
    {
     "name": "stdout",
     "output_type": "stream",
     "text": [
      "Number of unique training labels = (100,)\n",
      "Number of unique validation labels = (50,)\n",
      "Number of unique train/validation labels = (150,)\n",
      "Number of unique test labels = (50,)\n",
      "[45 38 37 40 46 48 52 50 51 52 32 48 45 45 42 45 52 50 48 46 44 46 47 49\n",
      " 51 51 50 46 46 48 47 48 49 48 48 45 48 49 46 38 47 52 48 49 51 53 47 45\n",
      " 47 48 45 53 47 46 53 48 46 49 49 47 35 47 52 44 49 54 46 51 47 49 48 43\n",
      " 54 43 51 45 46 45 45 48 49 41 47 46 50 49 43 50 43 49 47 45 47 48 46 50\n",
      " 50 44 44 48 50 49 50 50 46 46 47 46 51 45 51 48 49 53 48 52 45 44 44 30\n",
      " 40 49 48 48 42 47 49 50 48 43 54 47 48 50 48 49 53 36 43 52 46 47 49 42\n",
      " 49 52 52 45 37 46]\n"
     ]
    }
   ],
   "source": [
    "train_labels_seen, train_counts = np.unique(labels_train, return_counts=True)\n",
    "print(f'Number of unique training labels = {train_labels_seen.shape}')\n",
    "val_labels_unseen = np.unique(labels_val)\n",
    "print(f'Number of unique validation labels = {val_labels_unseen.shape}')\n",
    "trainval_labels_seen, trainval_counts = np.unique(labels_trainval,return_counts=True)\n",
    "print(f'Number of unique train/validation labels = {trainval_labels_seen.shape}')\n",
    "test_labels_unseen, test_counts = np.unique(labels_test, return_counts=True)\n",
    "print(f'Number of unique test labels = {test_labels_unseen.shape}')\n",
    "print(trainval_counts)"
   ]
  },
  {
   "cell_type": "code",
   "execution_count": 41,
   "metadata": {
    "colab": {
     "base_uri": "https://localhost:8080/"
    },
    "id": "-euNoInthQif",
    "outputId": "fc82a647-08a5-4f3c-ba64-59a5306c4096"
   },
   "outputs": [
    {
     "name": "stdout",
     "output_type": "stream",
     "text": [
      "Number of overlapping classes between train and val: 0\n",
      "Number of overlapping classes between train, val and test: 0\n"
     ]
    }
   ],
   "source": [
    "print(\"Number of overlapping classes between train and val:\",len(set(train_labels_seen).intersection(set(val_labels_unseen))))\n",
    "print(\"Number of overlapping classes between train, val and test:\",len(set(trainval_labels_seen).intersection(set(test_labels_unseen))))"
   ]
  },
  {
   "cell_type": "markdown",
   "metadata": {
    "id": "ZFLI_z7yhQih"
   },
   "source": [
    "### So now we have verified data in train set, validation set and test set have no overlaps!\n",
    "# Now let's begin training"
   ]
  },
  {
   "cell_type": "markdown",
   "metadata": {
    "id": "XWwYigQLK86b"
   },
   "source": [
    "### Task 1: Map the labels within each split to integers $\\in$ [0, `n_classes_split`)"
   ]
  },
  {
   "cell_type": "code",
   "execution_count": 43,
   "metadata": {
    "id": "t8uM4sqNhQih"
   },
   "outputs": [],
   "source": [
    "# Now let's assign each training/val/test label an index\n",
    "i = 0\n",
    "for labels in train_labels_seen:\n",
    "    labels_train[labels_train == labels] = i    \n",
    "    i = i+1\n",
    "#The above code maps ['labels_train' belonging to 'train_labels_seen']\n",
    "\n",
    "#Now, Do the same as above for ['labels_val' belonging to 'vals_labels_unseen'], \n",
    "#['labels_trainval' belonging to 'trainval_labels_seen']\n",
    "#['labels_test' belonging to 'test_labels_unseen']\n",
    "###START CODE HERE############################\n",
    "j=0 #counter for labels_val\n",
    "for labels in val_labels_unseen:\n",
    "    labels_val[labels_val == labels] = j\n",
    "    j = j+1\n",
    "    \n",
    "k=0 #counter for labels_trainval\n",
    "for labels in trainval_labels_seen:\n",
    "    labels_trainval[labels_trainval == labels] = k\n",
    "    k = k+1\n",
    "\n",
    "l=0 #counter for labels_test\n",
    "for labels in test_labels_unseen:\n",
    "    labels_test[labels_test == labels] = l\n",
    "    l = l+1\n",
    "\n",
    "#####END CODE HERE"
   ]
  },
  {
   "cell_type": "code",
   "execution_count": 59,
   "metadata": {},
   "outputs": [],
   "source": [
    "X_features = res101['features']\n",
    "train_vec = X_features[:,np.squeeze(att_splits[train_loc]-1)]\n",
    "val_vec = X_features[:,np.squeeze(att_splits[val_loc]-1)]\n",
    "trainval_vec = X_features[:,np.squeeze(att_splits[trainval_loc]-1)]\n",
    "test_vec = X_features[:,np.squeeze(att_splits[test_loc]-1)]"
   ]
  },
  {
   "cell_type": "markdown",
   "metadata": {
    "id": "vHMKI2-mPNF-"
   },
   "source": [
    "### If we've done this right, `i`, `j`, `k`, and `l` should equal the number of train, val, trainval, and test classes"
   ]
  },
  {
   "cell_type": "code",
   "execution_count": 44,
   "metadata": {
    "colab": {
     "base_uri": "https://localhost:8080/"
    },
    "id": "4AykT9IXzxgC",
    "outputId": "c3b526d8-2a01-4a33-ccb3-e9eabca88336"
   },
   "outputs": [
    {
     "name": "stdout",
     "output_type": "stream",
     "text": [
      "(i, j, k, l) = (100, 50, 150, 50)\n"
     ]
    }
   ],
   "source": [
    "print(f'(i, j, k, l) = ({i}, {j}, {k}, {l})')"
   ]
  },
  {
   "cell_type": "markdown",
   "metadata": {
    "id": "2NDeWf2whQik"
   },
   "source": [
    "### For each split, the features array `X` has the shape (`n_features`, `n_samples_split`). Note that `n_samples_trainval` + `n_samples_test` $\\neq$ `n_samples`. The equality would hold if we concatenated the so-called `test_seen` split with the `test_unseen` split, but if we did that, there would be an overlap between the classes represented in the `trainval` and `test` data.\n",
    "## Task 2: Lets create the train, validation, trainval and test data sets"
   ]
  },
  {
   "cell_type": "code",
   "execution_count": 47,
   "metadata": {
    "id": "AOAXjLZzhQik"
   },
   "outputs": [],
   "source": [
    "X_features = res101['features']\n",
    "train_features = X_features[:,np.squeeze(att_splits['train_loc']-1)]\n",
    "#The above extracts 'train_features' from att_splits column 'train_loc'\n",
    "#Now do the same for the other data sets:\n",
    "##############START CODE HERE#################\n",
    "#Extract 'val_feaures' from att_splits column 'val_loc'\n",
    "val_features = X_features[:,np.squeeze(att_splits[val_loc]-1)]\n",
    "#Extract 'trainval_feaures' from att_splits column 'trainval_loc'\n",
    "trainval_features = X_features[:,np.squeeze(att_splits[trainval_loc]-1)]\n",
    "#Extract 'test_feaures' from att_splits column 'test_unseen_loc'\n",
    "test_features = X_features[:,np.squeeze(att_splits[test_loc]-1)]\n",
    "##############END CODE HERE#######################"
   ]
  },
  {
   "cell_type": "code",
   "execution_count": 48,
   "metadata": {
    "id": "7rnj8bZqhQin"
   },
   "outputs": [
    {
     "name": "stdout",
     "output_type": "stream",
     "text": [
      "Features for entire dataset: (2048, 11788)\n",
      "Features for train: (2048, 4702)\n",
      "Features for val: (2048, 2355)\n",
      "Features for trainval: (2048, 7057)\n",
      "Features for test: (2048, 2967)\n"
     ]
    }
   ],
   "source": [
    "print(\"Features for entire dataset:\", X_features.shape)\n",
    "print(\"Features for train:\", train_features.shape)\n",
    "print(\"Features for val:\", val_features.shape)\n",
    "print(\"Features for trainval:\", trainval_features.shape)\n",
    "print(\"Features for test:\", test_features.shape)"
   ]
  },
  {
   "cell_type": "markdown",
   "metadata": {
    "id": "CKzhJdhYhQiq"
   },
   "source": [
    "### Normalize the vectors"
   ]
  },
  {
   "cell_type": "code",
   "execution_count": 49,
   "metadata": {
    "id": "NnHDYXyNhQiq"
   },
   "outputs": [],
   "source": [
    "def normalization(vec,mean,std):\n",
    "    sol = vec - mean\n",
    "    sol1 = sol/std\n",
    "    return sol1"
   ]
  },
  {
   "cell_type": "markdown",
   "metadata": {
    "id": "rpd67geQhQis"
   },
   "source": [
    "<!-- Each class in the dataset has an attribute (a) description. This vector is known as the `Signature matrix` of dimension S ∈ [0, 1]a×z. For training stage there are z classes and z' classes  for test S ∈ [0, 1]a×z'. -->\n",
    "\n",
    "### Each class in the dataset has an associated attribute vector of length `n_attributes` = 312 for `CUB`, where each component $\\in [0, 1]$. Each split of the data thus has a signature matrix $S_{\\textrm{split}}$ of shape (`n_attributes`, `n_classes_split`).\n",
    "## Task 3: Create the Signature Matrices\n",
    "\n",
    "In this task, our goal is to filter columns of signature array based on if it belongs to train, test, val etc. The columns we need should be based on the train, val, test labels.  Since the labels are starting from index 1, thus, we decrease the index of signature by 1 to apply as 0 based index."
   ]
  },
  {
   "cell_type": "code",
   "execution_count": 50,
   "metadata": {
    "colab": {
     "base_uri": "https://localhost:8080/"
    },
    "id": "whj-bUEhhQit",
    "outputId": "b9c308d0-bafc-43bb-8ae1-35baf7ca7394"
   },
   "outputs": [
    {
     "name": "stdout",
     "output_type": "stream",
     "text": [
      "signature.shape = (312, 200)\n",
      "train_sig.shape = (312, 100)\n",
      "val_sig.shape = (312, 50)\n",
      "trainval_sig.shape = (312, 150)\n",
      "test_sig.shape = (312, 50)\n"
     ]
    }
   ],
   "source": [
    "#Signature matrix Creation\n",
    "signature = att_splits['att']\n",
    "train_sig = signature[:,(train_labels_seen)-1]\n",
    "# The above generates 'train_sig' from 'att' and 'train_labels_seen'\n",
    "#Now do the same for the other data sets:\n",
    "##################START CODE HERE####################\n",
    "# Generate 'val_sig' from 'att' and 'val_labels_unseen'\n",
    "val_sig = signature[:,(val_labels_unseen)-1]\n",
    "# Generate 'trainval_sig' from 'att' and 'trainval_labels_seen'\n",
    "trainval_sig = signature[:,(trainval_labels_seen)-1]\n",
    "# Generate 'test_sig' from 'att' and 'test_labels_unseen'\n",
    "test_sig = signature[:,(test_labels_unseen)-1]\n",
    "##########END CODE HERE###########\n",
    "print(f'signature.shape = {signature.shape}')\n",
    "print(f'train_sig.shape = {train_sig.shape}')\n",
    "print(f'val_sig.shape = {val_sig.shape}')\n",
    "print(f'trainval_sig.shape = {trainval_sig.shape}')\n",
    "print(f'test_sig.shape = {test_sig.shape}')"
   ]
  },
  {
   "cell_type": "markdown",
   "metadata": {
    "id": "vUGSbT-whQiv"
   },
   "source": [
    "### Each row in the signature matrix corresponds to an attribute, while each column corresponds to a class. \n",
    "### For example, say the classes are `Horse` and `Zebra` and the attributes are [`wild_anima`l, `4_legged`, `herbivore`].\n",
    "\n",
    "```\n",
    " Horse      Zebra\n",
    "[0.00354613 0.        ] wild_animal\n",
    "[0.13829921 0.20209503] 4_legged\n",
    "[0.06560347 0.04155225] herbivore\n",
    "```"
   ]
  },
  {
   "cell_type": "markdown",
   "metadata": {
    "id": "JXW87fPrZo6C"
   },
   "source": [
    "### Let's print the signature for 2 columns, features 3:6\n"
   ]
  },
  {
   "cell_type": "code",
   "execution_count": 51,
   "metadata": {
    "colab": {
     "base_uri": "https://localhost:8080/"
    },
    "id": "PNcBds4_QRqQ",
    "outputId": "0dc3d8e7-9a33-4621-9013-4464484bbb5c"
   },
   "outputs": [
    {
     "name": "stdout",
     "output_type": "stream",
     "text": [
      "[[0.00354613 0.        ]\n",
      " [0.13829921 0.20209503]\n",
      " [0.06560347 0.04155225]]\n"
     ]
    }
   ],
   "source": [
    "print(train_sig[3:6,:2])"
   ]
  },
  {
   "cell_type": "markdown",
   "metadata": {
    "id": "UfTh5hG2Q1oT"
   },
   "source": [
    "### Define the numbers of samples and classes for all the splits. We'll use these to set up the ground truth arrays $Y_{\\textrm{split}}$ for the appropriate splits."
   ]
  },
  {
   "cell_type": "code",
   "execution_count": 56,
   "metadata": {
    "colab": {
     "base_uri": "https://localhost:8080/"
    },
    "id": "oCwjQJxphQi0",
    "outputId": "77f9188d-8cef-45b8-ee6c-06b9b8463f76"
   },
   "outputs": [
    {
     "name": "stdout",
     "output_type": "stream",
     "text": [
      "Training ground truth size = (4702, 100)\n",
      "Test Groundtruth size = (2967, 50)\n"
     ]
    }
   ],
   "source": [
    "#params for train and val set\n",
    "n_samples_train = labels_train.shape[0]\n",
    "n_samples_val = labels_val.shape[0]\n",
    "n_classes_train = len(train_labels_seen)\n",
    "n_classes_val = len(val_labels_unseen)\n",
    "print(f'Training ground truth size = ({n_samples_train}, {n_classes_train})')\n",
    "\n",
    "#params for trainval and test set\n",
    "n_samples_trainval = labels_trainval.shape[0]\n",
    "n_samples_test = labels_test.shape[0]\n",
    "n_classes_trainval = len(trainval_labels_seen)\n",
    "n_classes_test = len(test_labels_unseen)\n",
    "print(f'Test Groundtruth size = ({n_samples_test}, {n_classes_test})')"
   ]
  },
  {
   "cell_type": "markdown",
   "metadata": {
    "id": "O9Q8qPu1hQi3"
   },
   "source": [
    "### Set up the ground truth arrays as one-hot-encoded matrices. Each row corresponds to a sample and each column corresponds to a label."
   ]
  },
  {
   "cell_type": "code",
   "execution_count": 57,
   "metadata": {
    "id": "IpcTiV_0hQi3"
   },
   "outputs": [],
   "source": [
    "#ground truth for train and val set\n",
    "gt_train = np.zeros((n_samples_train, n_classes_train))\n",
    "gt_train[np.arange(n_samples_train), np.squeeze(labels_train)] = 1\n",
    "\n",
    "#ground truth for trainval and test set\n",
    "gt_trainval = np.zeros((n_samples_trainval, n_classes_trainval))\n",
    "gt_trainval[np.arange(n_samples_trainval), np.squeeze(labels_trainval)] = 1"
   ]
  },
  {
   "cell_type": "markdown",
   "metadata": {
    "id": "AnQR7gyJhQi9"
   },
   "source": [
    "### For the trainval split, the features array `X` and signature array `S` are both wider than they are tall. This means that we have to introduce 2 regularization parameters to estimate the matrix `V` of shape (`n_features`, `n_attributes`). `V` is thus given by \n",
    "$V = (X \\cdot X^T + \\alpha I_{\\texttt{n_features}})^{-1} \\cdot X \\cdot Y \\cdot S^T \\cdot (S \\cdot S^T + \\gamma I_{\\texttt{n_attributes}})^{-1}$\n",
    "\n",
    "### Even with the regularization parameters, you should still use pseudoinverses rather than standard matrix inverses.\n",
    "\n",
    "For details on the derrivation, please see the paper http://proceedings.mlr.press/v37/romera-paredes15.pdf\n",
    "\n",
    "\n"
   ]
  },
  {
   "cell_type": "markdown",
   "metadata": {
    "id": "UpRoKRHTTNPJ"
   },
   "source": [
    "### Initialize $V$, mainly for illustrative purposes. No matter the split, $V$ will have the shape (`n_features`, `n_atttributes`).\n",
    "# Zero Shot Learning Begins here!"
   ]
  },
  {
   "cell_type": "code",
   "execution_count": 63,
   "metadata": {
    "colab": {
     "base_uri": "https://localhost:8080/"
    },
    "id": "KaWYKK2DhQi7",
    "outputId": "9cfc22b5-8117-4b4c-8eef-b26adcd2bc6b"
   },
   "outputs": [
    {
     "name": "stdout",
     "output_type": "stream",
     "text": [
      "(2048, 312)\n"
     ]
    }
   ],
   "source": [
    "#Initialization. This is where optimal hyper parameters are set!\n",
    "d_train = train_vec.shape[0]\n",
    "a_train = train_sig.shape[0]\n",
    "\n",
    "\n",
    "d_trainval = trainval_features.shape[0]\n",
    "a_trainval= trainval_sig.shape[0]\n",
    "V = np.zeros((n_features,n_attributes))\n",
    "\n",
    "print(V.shape)\n",
    "#Note: These hyperparameters should be changed to optiomal versions after implementing the last code cell\n",
    "gamm1 = -1\n",
    "alph1 = 2"
   ]
  },
  {
   "cell_type": "markdown",
   "metadata": {
    "id": "fRl8JaiVamW_"
   },
   "source": [
    "## Task 4: Train for Zero Shot Learning\n",
    "### Calculate $V$ for the `trainval` split according to the formula above,  using pseudoinverses rather than true inverses"
   ]
  },
  {
   "cell_type": "code",
   "execution_count": 64,
   "metadata": {
    "id": "G8XIpisahQi_"
   },
   "outputs": [],
   "source": [
    "##Using the formulation for V above, compute V\n",
    "##START CODE HERE#############\n",
    "part_1_test = np.linalg.pinv(np.matmul(trainval_vec, trainval_vec.transpose()) + (10**alph1)*np.eye(d_trainval))\n",
    "part_0_test = np.matmul(np.matmul(trainval_vec,gt_trainval),trainval_sig.transpose())\n",
    "part_2_test = np.linalg.pinv(np.matmul(trainval_sig, trainval_sig.transpose()) + (10**gamm1)*np.eye(a_trainval))\n",
    "\n",
    "W = np.matmul(np.matmul(part_1_test,part_0_test),part_2_test)\n",
    "#####END CODE HERE#####################"
   ]
  },
  {
   "cell_type": "markdown",
   "metadata": {
    "id": "LUd3qW1ZbDhm"
   },
   "source": [
    "### Verify that $V$ is of the correct shape"
   ]
  },
  {
   "cell_type": "code",
   "execution_count": 65,
   "metadata": {
    "colab": {
     "base_uri": "https://localhost:8080/"
    },
    "id": "sEmrPBXAbHUK",
    "outputId": "c9d533d6-5ae8-4d7f-cdc6-ee7c3450ef76"
   },
   "outputs": [
    {
     "data": {
      "text/plain": [
       "True"
      ]
     },
     "execution_count": 65,
     "metadata": {},
     "output_type": "execute_result"
    }
   ],
   "source": [
    "V.shape == (n_features, n_attributes)"
   ]
  },
  {
   "cell_type": "markdown",
   "metadata": {
    "id": "H357lH7OhQjB"
   },
   "source": [
    "### For inferencing, $ \\hat{y} = \\textrm{argmax}(X_{\\texttt{test}}^T \\cdot V \\cdot S_{\\texttt{test}})$, where $S_{\\texttt{test}}$ is the signature matrix of the test set\n",
    "\n",
    "## Task 5: Find the predictions (y_hat=preds_1) using V computed above, and the equation above"
   ]
  },
  {
   "cell_type": "code",
   "execution_count": 67,
   "metadata": {
    "colab": {
     "base_uri": "https://localhost:8080/"
    },
    "id": "-ABfQySihQjB",
    "outputId": "05166985-43de-46b4-84a5-d7e698047d63",
    "scrolled": true
   },
   "outputs": [
    {
     "name": "stdout",
     "output_type": "stream",
     "text": [
      "Predicted label= 21\n",
      "Actual Label= [32]\n"
     ]
    }
   ],
   "source": [
    "#####START CODE HERE##################\n",
    "outputs_1 = np.matmul(np.matmul(test_vec.transpose(),W),test_sig)\n",
    "preds_1 = np.array([np.argmax(output) for output in outputs_1])\n",
    "########END CODE HERE##############\n",
    "#Lets look at a sample prediction \n",
    "num=10\n",
    "print('Predicted label=',preds_1[num])\n",
    "print('Actual Label=',labels_test[num])"
   ]
  },
  {
   "cell_type": "markdown",
   "metadata": {
    "id": "qbgZHpUp3U_t"
   },
   "source": [
    "## Next, lets evaluate the outcome of Zero Shot Learning in terms of 1% accuracy and condusion matrix\n",
    "## Task 6: Find the confusion matrix for Zero Shot Learning"
   ]
  },
  {
   "cell_type": "code",
   "execution_count": 68,
   "metadata": {
    "id": "eKR9GM-D3U_t",
    "outputId": "7183da1e-5081-4b31-dbfe-a8351195f1d4"
   },
   "outputs": [
    {
     "name": "stdout",
     "output_type": "stream",
     "text": [
      "Shape of Confusion Matric is= (50, 50)\n",
      "The top 1% accuracy is: 50.774025708603986\n"
     ]
    }
   ],
   "source": [
    "### Create a confusion matrix between actual labels(labels_test) and predictions (preds_1)\n",
    "#####START CODE HERE##########################\n",
    "cm = confusion_matrix(labels_test, preds_1) #insert the command for confusion matrix\n",
    "##########END CODE HERE########################\n",
    "print(\"Shape of Confusion Matric is=\",np.shape(cm))\n",
    "cm = cm.astype('float') / cm.sum(axis=1)[:, np.newaxis]\n",
    "avg = sum(cm.diagonal())/len(test_labels_unseen)\n",
    "print(\"The top 1% accuracy is:\", avg*100) #This is the definition of top 1% accuracy"
   ]
  },
  {
   "cell_type": "code",
   "execution_count": 69,
   "metadata": {
    "id": "zOCEj_Zj3U_t",
    "outputId": "521af8a0-d58a-48d3-8f79-44d98b580f01"
   },
   "outputs": [
    {
     "data": {
      "image/png": "[encoded data removed]",
      "text/plain": [
       "<Figure size 1440x1008 with 2 Axes>"
      ]
     },
     "metadata": {},
     "output_type": "display_data"
    }
   ],
   "source": [
    "#Output visualization: The confusion Matrix\n",
    "import seaborn as sn\n",
    "import pandas as pd\n",
    "import matplotlib.pyplot as plt\n",
    "\n",
    "df_cm = pd.DataFrame(cm, range(cm.shape[0]), range(cm.shape[1]))\n",
    "sn.set(font_scale=1.4) # for label size\n",
    "plt.figure(figsize = (20,14))\n",
    "sn.heatmap(df_cm,annot=True, annot_kws={\"size\": 8}) # font size\n",
    "\n",
    "plt.show()"
   ]
  },
  {
   "cell_type": "markdown",
   "metadata": {
    "id": "Uo8-xF4gc3vc"
   },
   "source": [
    "### Next, for comparative purposes, lets evaluate what would have happened if we had just used ridge regression.\n",
    "\n",
    "### Let's calculate $W$ and $\\hat{y}$ using ridge regression, i.e. $W = (XX^{T}+\\alpha I)^{-1} \\cdot X \\cdot Y$, $\\hat{y} = \\arg \\max (X^{T} W)$"
   ]
  },
  {
   "cell_type": "code",
   "execution_count": 70,
   "metadata": {
    "id": "eoHTqJKNhQjE"
   },
   "outputs": [],
   "source": [
    "#Step 1: Lets initialize W and alpha\n",
    "W=np.zeros((n_features,gt_trainval.shape[1]))\n",
    "alpha2=alph1"
   ]
  },
  {
   "cell_type": "markdown",
   "metadata": {
    "id": "__AJWusH3U_u"
   },
   "source": [
    "## Task 7: Compute W vector using ridge regression and teh equation above"
   ]
  },
  {
   "cell_type": "code",
   "execution_count": 72,
   "metadata": {
    "colab": {
     "base_uri": "https://localhost:8080/"
    },
    "id": "BiX8kep4hQjG",
    "outputId": "6d8f5eea-3da2-4366-f322-71d969fe4831"
   },
   "outputs": [
    {
     "name": "stdout",
     "output_type": "stream",
     "text": [
      "(2048, 312)\n"
     ]
    }
   ],
   "source": [
    "######START CODE HERE#########\n",
    "W=W = np.zeros((d_trainval,a_trainval))\n",
    "##########END CODE HERE############\n",
    "print(W.shape)"
   ]
  },
  {
   "cell_type": "code",
   "execution_count": 73,
   "metadata": {
    "colab": {
     "base_uri": "https://localhost:8080/"
    },
    "id": "65VY02aThQjI",
    "outputId": "093743fd-d7cd-4985-c26d-6ae46c4cdf01"
   },
   "outputs": [
    {
     "name": "stdout",
     "output_type": "stream",
     "text": [
      "Normal Regression Predicted label= 0\n",
      "Actual Label= [32]\n"
     ]
    }
   ],
   "source": [
    "#Next Now lets evaluate (y_hat=preds_2) using the W and features already computed!\n",
    "##########START CODE HERE############\n",
    "outputs_2 = np.matmul(np.matmul(test_vec.transpose(),W),test_sig)\n",
    "preds_2 = np.array([np.argmax(output) for output in outputs_2])\n",
    "#########END CODE HERE##################\n",
    "#Look at a sample prediction, same sample (num) as the ZSL example above\n",
    "print('Normal Regression Predicted label=',preds_2[num])\n",
    "print('Actual Label=',labels_test[num])"
   ]
  },
  {
   "cell_type": "markdown",
   "metadata": {
    "id": "sLcWqT7shQjK",
    "outputId": "0cdc5eaa-0351-48f3-f6c5-90b189e0167b"
   },
   "source": [
    "### Step 4: Evaluation using 1 in % accuracy and confusion matrix.\n",
    "Evaluating the performance of ZSL models is tricky since the model has never previously see the exact test labels. (See example in https://github.com/cetinsamet/zero-shot-learning). Thus, based on the signature vector, the model predicts several outcomes. If top 5 outcomes are predicted then the metric is refered to as top 5 in % accuracy. Similarly if top 3 outcomes are predicted, metric is top 3 in % accuracy. "
   ]
  },
  {
   "cell_type": "code",
   "execution_count": 74,
   "metadata": {
    "colab": {
     "base_uri": "https://localhost:8080/",
     "height": 826
    },
    "id": "B2Jl7XC7hQjM",
    "outputId": "a8c3ebfb-ab63-4c42-f01f-9e57ee6bde68"
   },
   "outputs": [
    {
     "name": "stdout",
     "output_type": "stream",
     "text": [
      "The top 1% accuracy is: 2.0\n"
     ]
    }
   ],
   "source": [
    "### Create a confusion matrix between actual labels(labels_test) and predictions (preds_2)\n",
    "#####START CODE HERE##########################\n",
    "cm2 = confusion_matrix(labels_test, preds_2) #insert the command for confusion matrix\n",
    "##########END CODE HERE########################\n",
    "cm2 = cm2.astype('float') / cm2.sum(axis=1)[:, np.newaxis]\n",
    "cm2=np.nan_to_num(cm2,nan=0)\n",
    "avg2 = sum(cm2.diagonal())/len(test_labels_unseen)\n",
    "print(\"The top 1% accuracy is:\", avg2*100)"
   ]
  },
  {
   "cell_type": "code",
   "execution_count": 75,
   "metadata": {
    "colab": {
     "base_uri": "https://localhost:8080/"
    },
    "id": "YjRttlQwhQjO",
    "outputId": "7647ae10-ee8d-46e1-8ea4-22509fd25316"
   },
   "outputs": [
    {
     "data": {
      "image/png": "[encoded data removed]",
      "text/plain": [
       "<Figure size 1440x1008 with 2 Axes>"
      ]
     },
     "metadata": {},
     "output_type": "display_data"
    }
   ],
   "source": [
    "#Lets visualize confusion matrix. Observe too many 0 values in the confusion matrix\n",
    "df_cm2 = pd.DataFrame(cm2, range(cm2.shape[0]), range(cm2.shape[1]))\n",
    "sn.set(font_scale=1.4) # for label size\n",
    "plt.figure(figsize = (20,14))\n",
    "sn.heatmap(df_cm2,annot=True, annot_kws={\"size\": 8}) # font size\n",
    "\n",
    "plt.show()"
   ]
  },
  {
   "cell_type": "markdown",
   "metadata": {
    "id": "9BC3H-UEhQjR"
   },
   "source": [
    "## So we see that the use of vectorization and signature matrix yields Zero Shot Learning 1% Accuracy of  55.14% for unseen data as opposed to <1% accuracy that can be obtained by ridge regression only.\n",
    "\n",
    "# Thus, we see the given method method using signature matrix is highly useful for previously unseen data!"
   ]
  },
  {
   "cell_type": "markdown",
   "metadata": {
    "id": "kEFE7o9jhQjS"
   },
   "source": [
    "## Finally, lets try some hyper-parameter tuning!\n",
    "### Below code snippet can be used to find the best hyper-parameter using the train and val set. This can be used to set alpha1, gamma1 in the equations above.\n",
    "### Run the following snippet to obtain the best alpha1 and gamma1 and substitute in the zero shot learning cells (After \" Zero Shot Learning begins here!\"). Report the performance improvement by using the optimal hyper-parameters."
   ]
  },
  {
   "cell_type": "code",
   "execution_count": 76,
   "metadata": {
    "colab": {
     "base_uri": "https://localhost:8080/",
     "height": 240
    },
    "id": "yrYmi_IPhQjS",
    "outputId": "7925f224-f346-48eb-cd8b-f1b0212bf70c"
   },
   "outputs": [
    {
     "name": "stderr",
     "output_type": "stream",
     "text": [
      "<ipython-input-76-d00e6cb50210>:19: RuntimeWarning: invalid value encountered in true_divide\n",
      "  cm = cm.astype('float') / cm.sum(axis=1)[:, np.newaxis]\n"
     ]
    },
    {
     "name": "stdout",
     "output_type": "stream",
     "text": [
      "Avg: nan -3 -3\n",
      "Avg: nan -3 -2\n",
      "Avg: nan -3 -1\n",
      "Avg: nan -3 0\n",
      "Avg: nan -3 1\n",
      "Avg: nan -3 2\n",
      "Avg: nan -3 3\n",
      "Avg: nan -2 -3\n",
      "Avg: nan -2 -2\n",
      "Avg: nan -2 -1\n",
      "Avg: nan -2 0\n",
      "Avg: nan -2 1\n",
      "Avg: nan -2 2\n",
      "Avg: nan -2 3\n",
      "Avg: nan -1 -3\n",
      "Avg: nan -1 -2\n",
      "Avg: nan -1 -1\n",
      "Avg: nan -1 0\n",
      "Avg: nan -1 1\n",
      "Avg: nan -1 2\n",
      "Avg: nan -1 3\n",
      "Avg: nan 0 -3\n",
      "Avg: nan 0 -2\n",
      "Avg: nan 0 -1\n",
      "Avg: nan 0 0\n",
      "Avg: nan 0 1\n",
      "Avg: nan 0 2\n",
      "Avg: nan 0 3\n",
      "Avg: nan 1 -3\n",
      "Avg: nan 1 -2\n",
      "Avg: nan 1 -1\n",
      "Avg: nan 1 0\n",
      "Avg: nan 1 1\n",
      "Avg: nan 1 2\n",
      "Avg: nan 1 3\n",
      "Avg: nan 2 -3\n",
      "Avg: nan 2 -2\n",
      "Avg: nan 2 -1\n",
      "Avg: nan 2 0\n",
      "Avg: nan 2 1\n",
      "Avg: nan 2 2\n",
      "Avg: nan 2 3\n",
      "Avg: nan 3 -3\n",
      "Avg: nan 3 -2\n",
      "Avg: nan 3 -1\n",
      "Avg: nan 3 0\n",
      "Avg: nan 3 1\n",
      "Avg: nan 3 2\n",
      "Avg: nan 3 3\n",
      "Optimal Alpha= 4 Optimal Gamma= 1\n"
     ]
    }
   ],
   "source": [
    "accu = 0.10\n",
    "alph1 = 4\n",
    "gamm1 = 1\n",
    "for alpha in range(-3, 4):\n",
    "    for gamma in range(-3,4):\n",
    "        #One line solution\n",
    "        part_1 = np.linalg.pinv(np.matmul(train_features, train_features.transpose()) + (10**alpha)*np.eye(n_features))\n",
    "        part_0 = np.matmul(np.matmul(train_features,gt_train),train_sig.transpose())\n",
    "        part_2 = np.linalg.pinv(np.matmul(train_sig, train_sig.transpose()) + (10**gamma)*np.eye(n_attributes))\n",
    "\n",
    "        V = np.matmul(np.matmul(part_1,part_0),part_2)\n",
    "        #print(V)\n",
    "\n",
    "        #predictions\n",
    "        outputs = np.matmul(np.matmul(val_features.transpose(),V),val_sig)\n",
    "        preds = np.array([np.argmax(output) for output in outputs])\n",
    "\n",
    "        cm = confusion_matrix(labels_val, preds)\n",
    "        cm = cm.astype('float') / cm.sum(axis=1)[:, np.newaxis]\n",
    "        avg = sum(cm.diagonal())/len(val_labels_unseen)\n",
    "        print(\"Avg:\", avg, alpha, gamma)\n",
    "\n",
    "        if avg > accu:\n",
    "            accu = avg\n",
    "            alph1 = alpha\n",
    "            gamm1 = gamma\n",
    "print('Optimal Alpha=',alph1, 'Optimal Gamma=',gamm1)"
   ]
  },
  {
   "cell_type": "code",
   "execution_count": null,
   "metadata": {},
   "outputs": [],
   "source": []
  }
 ],
 "metadata": {
  "colab": {
   "collapsed_sections": [
    "-bw006lcfixc",
    "q_actSwNhQiV",
    "q_B3YnWZhQic",
    "ZFLI_z7yhQih",
    "XWwYigQLK86b",
    "vHMKI2-mPNF-",
    "2NDeWf2whQik",
    "CKzhJdhYhQiq",
    "rpd67geQhQis",
    "vUGSbT-whQiv",
    "JXW87fPrZo6C",
    "UfTh5hG2Q1oT",
    "O9Q8qPu1hQi3",
    "AnQR7gyJhQi9",
    "UpRoKRHTTNPJ",
    "fRl8JaiVamW_",
    "LUd3qW1ZbDhm",
    "H357lH7OhQjB",
    "Uo8-xF4gc3vc"
   ],
   "name": "4_2_Zero_Shot_Learning_Assignment_SRC.ipynb",
   "provenance": []
  },
  "kernelspec": {
   "display_name": "Python 3",
   "language": "python",
   "name": "python3"
  },
  "language_info": {
   "codemirror_mode": {
    "name": "ipython",
    "version": 3
   },
   "file_extension": ".py",
   "mimetype": "text/x-python",
   "name": "python",
   "nbconvert_exporter": "python",
   "pygments_lexer": "ipython3",
   "version": "3.8.3"
  }
 },
 "nbformat": 4,
 "nbformat_minor": 4
}
