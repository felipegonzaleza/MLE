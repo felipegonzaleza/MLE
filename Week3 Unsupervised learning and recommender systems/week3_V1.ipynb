{
 "cells": [
  {
   "cell_type": "markdown",
   "metadata": {
    "id": "1ggXLdNuAGoi"
   },
   "source": [
    "## Today you are a Machine Learning Engineer at the Department of Business Intelligence at Target Cosmetics!\n",
    "This work relies on processed data from Kaggle https://www.kaggle.com/mkechinov/ecommerce-events-history-in-cosmetics-shop\n",
    "\n",
    "This work is motivated by the publication https://arxiv.org/pdf/2010.02503.pdf and https://arxiv.org/pdf/2102.01625.pdf\n",
    "\n",
    "This data is similar to the Ecommerce data we looked at last week, but for cosmetics retail. Also, the data indicating time-of-day, day-of-week, month, and year of the purchase have been converted to one-hot representations of these categories.\n",
    "\n",
    "Our objective in this notebook will be to discover some structure in this data by applying some of the **unsupervised learning** methods covered in class this week.\n",
    "\n",
    "You have access to 250,000 user-journeys and you have been asked to:\n",
    "1. Find patterns among customer purchasing behaviors to identify categories of customers, i.e. how many categories of customers are there based on their purchasing behavior?\n",
    "2. Visually inspect the customer categories to identify the distinctive categories and their most important features."
   ]
  },
  {
   "cell_type": "markdown",
   "metadata": {
    "id": "EOeCwyxypaFz"
   },
   "source": [
    "## Task 1: Load in data and do some feature selection"
   ]
  },
  {
   "cell_type": "markdown",
   "metadata": {
    "id": "3XAWWl-t1Qr-"
   },
   "source": [
    "If running in Google Colab, run this first:"
   ]
  },
  {
   "cell_type": "code",
   "execution_count": null,
   "metadata": {
    "id": "udBEolpnuWxO"
   },
   "outputs": [],
   "source": [
    "from google.colab import drive\n",
    "drive.mount('/content/drive')"
   ]
  },
  {
   "cell_type": "code",
   "execution_count": 1,
   "metadata": {
    "executionInfo": {
     "elapsed": 3,
     "status": "ok",
     "timestamp": 1628789344778,
     "user": {
      "displayName": "Spencer Kent",
      "photoUrl": "",
      "userId": "07841346171340846448"
     },
     "user_tz": 360
    },
    "id": "jnRNgZ6gxHwm"
   },
   "outputs": [],
   "source": [
    "import pandas as pd"
   ]
  },
  {
   "cell_type": "code",
   "execution_count": 2,
   "metadata": {
    "executionInfo": {
     "elapsed": 1646,
     "status": "ok",
     "timestamp": 1628789349602,
     "user": {
      "displayName": "Spencer Kent",
      "photoUrl": "",
      "userId": "07841346171340846448"
     },
     "user_tz": 360
    },
    "id": "mhcwhWDYwZad"
   },
   "outputs": [],
   "source": [
    "# this is where my copy of the data is, you should change this for your needs\n",
    "#df = pd.read_csv(\"/content/drive/My Drive/Datasets/week_3/Cosmetics_data_2019.csv\")\n",
    "df = pd.read_csv(\"Cosmetics_data_2019.csv\")"
   ]
  },
  {
   "cell_type": "code",
   "execution_count": 3,
   "metadata": {
    "colab": {
     "base_uri": "https://localhost:8080/",
     "height": 223
    },
    "executionInfo": {
     "elapsed": 101,
     "status": "ok",
     "timestamp": 1628789352304,
     "user": {
      "displayName": "Spencer Kent",
      "photoUrl": "",
      "userId": "07841346171340846448"
     },
     "user_tz": 360
    },
    "id": "z4l5NtcyxGVL",
    "outputId": "c66378c3-56ac-4d2c-f6ab-b02b16ee61ab"
   },
   "outputs": [
    {
     "data": {
      "text/html": [
       "<div>\n",
       "<style scoped>\n",
       "    .dataframe tbody tr th:only-of-type {\n",
       "        vertical-align: middle;\n",
       "    }\n",
       "\n",
       "    .dataframe tbody tr th {\n",
       "        vertical-align: top;\n",
       "    }\n",
       "\n",
       "    .dataframe thead th {\n",
       "        text-align: right;\n",
       "    }\n",
       "</style>\n",
       "<table border=\"1\" class=\"dataframe\">\n",
       "  <thead>\n",
       "    <tr style=\"text-align: right;\">\n",
       "      <th></th>\n",
       "      <th>user_id</th>\n",
       "      <th>product_id</th>\n",
       "      <th>NumOfEventsInJourney</th>\n",
       "      <th>NumSessions</th>\n",
       "      <th>interactionTime</th>\n",
       "      <th>maxPrice</th>\n",
       "      <th>minPrice</th>\n",
       "      <th>NumCart</th>\n",
       "      <th>NumView</th>\n",
       "      <th>NumRemove</th>\n",
       "      <th>...</th>\n",
       "      <th>Nov</th>\n",
       "      <th>Dec</th>\n",
       "      <th>Afternoon</th>\n",
       "      <th>Dawn</th>\n",
       "      <th>EarlyMorning</th>\n",
       "      <th>Evening</th>\n",
       "      <th>Morning</th>\n",
       "      <th>Night</th>\n",
       "      <th>Noon</th>\n",
       "      <th>Purchase</th>\n",
       "    </tr>\n",
       "  </thead>\n",
       "  <tbody>\n",
       "    <tr>\n",
       "      <th>0</th>\n",
       "      <td>537190108</td>\n",
       "      <td>27762</td>\n",
       "      <td>2</td>\n",
       "      <td>2</td>\n",
       "      <td>4749</td>\n",
       "      <td>19.03</td>\n",
       "      <td>19.03</td>\n",
       "      <td>0</td>\n",
       "      <td>1</td>\n",
       "      <td>1</td>\n",
       "      <td>...</td>\n",
       "      <td>1</td>\n",
       "      <td>0</td>\n",
       "      <td>0</td>\n",
       "      <td>0</td>\n",
       "      <td>0</td>\n",
       "      <td>0</td>\n",
       "      <td>1</td>\n",
       "      <td>0</td>\n",
       "      <td>0</td>\n",
       "      <td>0</td>\n",
       "    </tr>\n",
       "    <tr>\n",
       "      <th>1</th>\n",
       "      <td>577668451</td>\n",
       "      <td>5865119</td>\n",
       "      <td>1</td>\n",
       "      <td>1</td>\n",
       "      <td>0</td>\n",
       "      <td>4.60</td>\n",
       "      <td>4.60</td>\n",
       "      <td>0</td>\n",
       "      <td>1</td>\n",
       "      <td>0</td>\n",
       "      <td>...</td>\n",
       "      <td>1</td>\n",
       "      <td>0</td>\n",
       "      <td>1</td>\n",
       "      <td>0</td>\n",
       "      <td>0</td>\n",
       "      <td>0</td>\n",
       "      <td>0</td>\n",
       "      <td>0</td>\n",
       "      <td>0</td>\n",
       "      <td>0</td>\n",
       "    </tr>\n",
       "    <tr>\n",
       "      <th>2</th>\n",
       "      <td>607369766</td>\n",
       "      <td>5922121</td>\n",
       "      <td>1</td>\n",
       "      <td>1</td>\n",
       "      <td>0</td>\n",
       "      <td>35.71</td>\n",
       "      <td>35.71</td>\n",
       "      <td>0</td>\n",
       "      <td>1</td>\n",
       "      <td>0</td>\n",
       "      <td>...</td>\n",
       "      <td>0</td>\n",
       "      <td>0</td>\n",
       "      <td>0</td>\n",
       "      <td>0</td>\n",
       "      <td>0</td>\n",
       "      <td>1</td>\n",
       "      <td>0</td>\n",
       "      <td>0</td>\n",
       "      <td>0</td>\n",
       "      <td>0</td>\n",
       "    </tr>\n",
       "    <tr>\n",
       "      <th>3</th>\n",
       "      <td>572456715</td>\n",
       "      <td>5723529</td>\n",
       "      <td>1</td>\n",
       "      <td>1</td>\n",
       "      <td>0</td>\n",
       "      <td>2.94</td>\n",
       "      <td>2.94</td>\n",
       "      <td>1</td>\n",
       "      <td>0</td>\n",
       "      <td>0</td>\n",
       "      <td>...</td>\n",
       "      <td>1</td>\n",
       "      <td>0</td>\n",
       "      <td>0</td>\n",
       "      <td>0</td>\n",
       "      <td>1</td>\n",
       "      <td>0</td>\n",
       "      <td>0</td>\n",
       "      <td>0</td>\n",
       "      <td>0</td>\n",
       "      <td>0</td>\n",
       "    </tr>\n",
       "    <tr>\n",
       "      <th>4</th>\n",
       "      <td>566667766</td>\n",
       "      <td>5823646</td>\n",
       "      <td>1</td>\n",
       "      <td>1</td>\n",
       "      <td>0</td>\n",
       "      <td>5.22</td>\n",
       "      <td>5.22</td>\n",
       "      <td>0</td>\n",
       "      <td>1</td>\n",
       "      <td>0</td>\n",
       "      <td>...</td>\n",
       "      <td>0</td>\n",
       "      <td>0</td>\n",
       "      <td>0</td>\n",
       "      <td>0</td>\n",
       "      <td>0</td>\n",
       "      <td>1</td>\n",
       "      <td>0</td>\n",
       "      <td>0</td>\n",
       "      <td>0</td>\n",
       "      <td>0</td>\n",
       "    </tr>\n",
       "  </tbody>\n",
       "</table>\n",
       "<p>5 rows × 36 columns</p>\n",
       "</div>"
      ],
      "text/plain": [
       "     user_id  product_id  NumOfEventsInJourney  NumSessions  interactionTime  \\\n",
       "0  537190108       27762                     2            2             4749   \n",
       "1  577668451     5865119                     1            1                0   \n",
       "2  607369766     5922121                     1            1                0   \n",
       "3  572456715     5723529                     1            1                0   \n",
       "4  566667766     5823646                     1            1                0   \n",
       "\n",
       "   maxPrice  minPrice  NumCart  NumView  NumRemove  ...  Nov  Dec  Afternoon  \\\n",
       "0     19.03     19.03        0        1          1  ...    1    0          0   \n",
       "1      4.60      4.60        0        1          0  ...    1    0          1   \n",
       "2     35.71     35.71        0        1          0  ...    0    0          0   \n",
       "3      2.94      2.94        1        0          0  ...    1    0          0   \n",
       "4      5.22      5.22        0        1          0  ...    0    0          0   \n",
       "\n",
       "   Dawn  EarlyMorning  Evening  Morning  Night  Noon  Purchase  \n",
       "0     0             0        0        1      0     0         0  \n",
       "1     0             0        0        0      0     0         0  \n",
       "2     0             0        1        0      0     0         0  \n",
       "3     0             1        0        0      0     0         0  \n",
       "4     0             0        1        0      0     0         0  \n",
       "\n",
       "[5 rows x 36 columns]"
      ]
     },
     "execution_count": 3,
     "metadata": {},
     "output_type": "execute_result"
    }
   ],
   "source": [
    "df.head()"
   ]
  },
  {
   "cell_type": "code",
   "execution_count": 4,
   "metadata": {
    "executionInfo": {
     "elapsed": 3075,
     "status": "ok",
     "timestamp": 1628789360099,
     "user": {
      "displayName": "Spencer Kent",
      "photoUrl": "",
      "userId": "07841346171340846448"
     },
     "user_tz": 360
    },
    "id": "RiEtO2vfAGoq"
   },
   "outputs": [
    {
     "ename": "ModuleNotFoundError",
     "evalue": "No module named 'tensorflow'",
     "output_type": "error",
     "traceback": [
      "\u001b[0;31m---------------------------------------------------------------------------\u001b[0m",
      "\u001b[0;31mModuleNotFoundError\u001b[0m                       Traceback (most recent call last)",
      "\u001b[0;32m<ipython-input-4-9c2f10505088>\u001b[0m in \u001b[0;36m<module>\u001b[0;34m\u001b[0m\n\u001b[1;32m      1\u001b[0m \u001b[0;31m# Importing some libraries we'll use\u001b[0m\u001b[0;34m\u001b[0m\u001b[0;34m\u001b[0m\u001b[0;34m\u001b[0m\u001b[0m\n\u001b[1;32m      2\u001b[0m \u001b[0;32mimport\u001b[0m \u001b[0mos\u001b[0m\u001b[0;34m\u001b[0m\u001b[0;34m\u001b[0m\u001b[0m\n\u001b[0;32m----> 3\u001b[0;31m \u001b[0;32mimport\u001b[0m \u001b[0mtensorflow\u001b[0m \u001b[0;32mas\u001b[0m \u001b[0mtf\u001b[0m   \u001b[0;31m#<-- first time using tensorflow in this course!\u001b[0m\u001b[0;34m\u001b[0m\u001b[0;34m\u001b[0m\u001b[0m\n\u001b[0m\u001b[1;32m      4\u001b[0m \u001b[0;32mfrom\u001b[0m \u001b[0mtensorboard\u001b[0m\u001b[0;34m.\u001b[0m\u001b[0mplugins\u001b[0m \u001b[0;32mimport\u001b[0m \u001b[0mprojector\u001b[0m  \u001b[0;31m# tensorboard for visualizing dimensionality reduction\u001b[0m\u001b[0;34m\u001b[0m\u001b[0;34m\u001b[0m\u001b[0m\n\u001b[1;32m      5\u001b[0m \u001b[0;32mimport\u001b[0m \u001b[0mnumpy\u001b[0m \u001b[0;32mas\u001b[0m \u001b[0mnp\u001b[0m\u001b[0;34m\u001b[0m\u001b[0;34m\u001b[0m\u001b[0m\n",
      "\u001b[0;31mModuleNotFoundError\u001b[0m: No module named 'tensorflow'"
     ]
    }
   ],
   "source": [
    "# Importing some libraries we'll use\n",
    "import os\n",
    "import tensorflow as tf   #<-- first time using tensorflow in this course!\n",
    "from tensorboard.plugins import projector  # tensorboard for visualizing dimensionality reduction\n",
    "import numpy as np\n",
    "from matplotlib import pyplot as plt\n",
    "from sklearn.preprocessing import StandardScaler\n",
    "from sklearn.decomposition import PCA\n",
    "import seaborn as sb"
   ]
  },
  {
   "cell_type": "code",
   "execution_count": 7,
   "metadata": {
    "colab": {
     "base_uri": "https://localhost:8080/"
    },
    "executionInfo": {
     "elapsed": 100,
     "status": "ok",
     "timestamp": 1628789362384,
     "user": {
      "displayName": "Spencer Kent",
      "photoUrl": "",
      "userId": "07841346171340846448"
     },
     "user_tz": 360
    },
    "id": "uSm6dt8RAGo3",
    "outputId": "0766351e-2fe1-491f-d877-67b01e292716"
   },
   "outputs": [
    {
     "name": "stdout",
     "output_type": "stream",
     "text": [
      "Percentage of interactions resulting in a purchase = 12.0684\n"
     ]
    }
   ],
   "source": [
    "YY=df.loc[:,'Purchase'].values\n",
    "print(f'Percentage of interactions resulting in a purchase = {(np.sum(YY)/len(YY))*100}')"
   ]
  },
  {
   "cell_type": "markdown",
   "metadata": {
    "id": "DagFtXknox2k"
   },
   "source": [
    "This is a alot higher than we had for the electronics data! For cosmetics data, there appears to be less \"window shopping,\" shopping around without buying. When people come to this ecommerce site they're overall more likely to make a purchase."
   ]
  },
  {
   "cell_type": "markdown",
   "metadata": {
    "id": "RP7Y8J7dm6lW"
   },
   "source": [
    "Create a matrix of features (AKA the \"design matrix\") `X` from every column in the dataframe, except for `'user_id'`, `'product_id'`, and `Purchase`. We won't be using `'user_id'` and `'product_id'` as features in this demo. The `Purchase` column is like a \"label\", but we're doing unsupervised learning so we won't use it in fitting the learning model. (we will use it later just to analyze how good our unsupervised learning was). Go ahead and drop `'user_id'` and `'product_id'` from the original DataFrame as well."
   ]
  },
  {
   "cell_type": "code",
   "execution_count": null,
   "metadata": {
    "id": "0hmxyZxpAGpB"
   },
   "outputs": [],
   "source": [
    "### START CODE HERE ###\n",
    "\n",
    "### END CODE HERE ###\n",
    "# Display the first few rows of the modified DataFrame\n",
    "df.head()"
   ]
  },
  {
   "cell_type": "markdown",
   "metadata": {
    "id": "tU_8ozi5pZJA"
   },
   "source": [
    "It's good to get in the habit of encapsulating functionality you want to reuse in functions/modules outside of individual notebooks--using a separate library of functions increases the modularity of your code, eliminating the need to copy and paste this code into every notebook where you want to use it. We've provided a python file called `helper_functions_for_week3.py` that has one such function in it. Read through the function and see if you recognize it from last week!"
   ]
  },
  {
   "cell_type": "markdown",
   "metadata": {
    "id": "dTrxDJXrrh5q"
   },
   "source": [
    "We want to import `helper_functions_for_week3.py` but we need to make sure Python can find the file--if you're developing locally this is straightforward, but if you're using Colab you have a few options:\n"
   ]
  },
  {
   "cell_type": "markdown",
   "metadata": {
    "id": "nZjYZNSMt3iG"
   },
   "source": [
    "**Option 1**\n",
    "\n",
    "Append the mounted Google Drive directory containing the file to the system path\n"
   ]
  },
  {
   "cell_type": "code",
   "execution_count": null,
   "metadata": {
    "id": "5VRtL9QKuEXJ"
   },
   "outputs": [],
   "source": [
    "import sys\n",
    "sys.path.append('/content/drive/My Drive/Live_session_notebooks/week_3/') # This is where I stored helper_functions_for_week3.py in Google Drive"
   ]
  },
  {
   "cell_type": "markdown",
   "metadata": {
    "id": "UHr7Ai1xuFvC"
   },
   "source": [
    "**Option 2**\n",
    "\n",
    "Upload the file directly to this virtual machine:\n",
    "\n",
    "<img src='https://drive.google.com/uc?id=1k5OeIG_RrMQcBzyRR8LfhemdB3ZUFQCa' width=\"300\">"
   ]
  },
  {
   "cell_type": "markdown",
   "metadata": {
    "id": "Kd1Py9jivqiF"
   },
   "source": [
    "**Option 3**\n",
    "\n",
    "Use the PyDrive module, [follow the instructions here](https://colab.research.google.com/notebooks/io.ipynb#scrollTo=7taylj9wpsA2)."
   ]
  },
  {
   "cell_type": "code",
   "execution_count": null,
   "metadata": {
    "id": "XxpPZNjLAGpD"
   },
   "outputs": [],
   "source": [
    "from helper_functions_for_week3 import *\n",
    "#^ Importing everything from this file, if you want to add your own method of feature selection,\n",
    "#  put it in helper_functions_for_week3.py and try using it below!"
   ]
  },
  {
   "cell_type": "markdown",
   "metadata": {
    "id": "ATqe8cyGAGpG"
   },
   "source": [
    "Now use the function we've imported (or one you wrote yourself, if you prefer) to select a subset of the features that appear informative. Create a new NumPy array `X_train` that only retains these features."
   ]
  },
  {
   "cell_type": "code",
   "execution_count": null,
   "metadata": {
    "id": "G0EeGGnWAGpM"
   },
   "outputs": [],
   "source": [
    "### START CODE HERE ###\n",
    "X_train = None\n",
    "### END CODE HERE ###"
   ]
  },
  {
   "cell_type": "markdown",
   "metadata": {
    "id": "qRuVLj0lAGpT"
   },
   "source": [
    "## Task 2: Apply dimensionality reduction and K-means clustering\n",
    "\n",
    "We're going to do two main things in this task: \n",
    "  1. Apply dimensionality reduction to `X_train`\n",
    "    * First we'll try PCA, reducing the number of features down to **5**\n",
    "    * Then we'll also try t-SNE. t-SNE is a lot slower than PCA so we'll have you run t-SNE on a smaller subsample of the data, and we'll use 3 instead of 5 output features.\n",
    "  2. Apply K-means clustering on the dimensionality-reduced data, using different values of \"K\". This is one way of assessing the quality of the dimensionality reduction. We'll summarize all this information in a single plot, the \"Elbow\" plot."
   ]
  },
  {
   "cell_type": "markdown",
   "metadata": {
    "id": "WIG5CclFvlLO"
   },
   "source": [
    "Use the sklearn `PCA` module you've imported above to produce `X_reduced_PCA`, a version of the data in `X_train` has been dimensionality-reduced by PCA. Use 5 PCA components, so `X_reduced_PCA` should have 5 columns.  "
   ]
  },
  {
   "cell_type": "code",
   "execution_count": null,
   "metadata": {
    "colab": {
     "base_uri": "https://localhost:8080/"
    },
    "executionInfo": {
     "elapsed": 899,
     "status": "ok",
     "timestamp": 1628783431814,
     "user": {
      "displayName": "Spencer Kent",
      "photoUrl": "",
      "userId": "07841346171340846448"
     },
     "user_tz": 360
    },
    "id": "9Y9DVVG9AGpU",
    "outputId": "5d34d61e-cf29-43d3-a962-aeff097bfd14"
   },
   "outputs": [
    {
     "name": "stdout",
     "output_type": "stream",
     "text": [
      "(250000, 5)\n"
     ]
    }
   ],
   "source": [
    "### START CODE HERE ###\n",
    "X_reduced_PCA = None\n",
    "### END CODE HERE ###\n",
    "print(X_reduced_PCA.shape)"
   ]
  },
  {
   "cell_type": "markdown",
   "metadata": {
    "id": "gDX2qLQE8QB2"
   },
   "source": [
    "Now do dimensionality reduction with t-SNE. You can used the [TSNE module](https://scikit-learn.org/stable/modules/generated/sklearn.manifold.TSNE.html) in `sklearn.manifold`\n",
    "\n",
    "Certain implementations of t-SNE can be slow, including scikit-learn's, so just fit it on the first 10000 samples of your data. Also, pick n_components=3 and perplexity=20. This can take a little while, be patient :)\n",
    "\n",
    "Save the t-SNE-reduced version of your data as `X_reduced_tSNE`"
   ]
  },
  {
   "cell_type": "code",
   "execution_count": null,
   "metadata": {
    "id": "IuGJg2UPAGpZ"
   },
   "outputs": [],
   "source": [
    "import sklearn.manifold\n",
    "### START CODE HERE ###\n",
    "X_reduced_tSNE = None\n",
    "### END CODE HERE ###\n",
    "print(X_reduced_tSNE.shape)"
   ]
  },
  {
   "cell_type": "markdown",
   "metadata": {
    "id": "kteTq2wZ9a_q"
   },
   "source": [
    "Now we'll use the [KMeans module](https://scikit-learn.org/stable/modules/generated/sklearn.cluster.KMeans.html?highlight=kmeans#sklearn.cluster.KMeans) in sklearn.cluster, to fit Kmeans clusterings of the data. We don't know the best value of K (the number of clusters) *a priori*, so let's try all values of $k \\in [1, 20]$. We can automate this with the [KElbowVisualizer module](https://www.scikit-yb.org/en/latest/api/cluster/elbow.html) of the Yellowbrick visualization library. Read the documentation of KElbowVisualizer to see how you can wrap a Kmeans model with a KElbowVisualizer, and generate an elbow plot. Generate elbow plots for both the PCA-reduced data and the t-SNE-reduced data"
   ]
  },
  {
   "cell_type": "markdown",
   "metadata": {},
   "source": [
    "If you are running this in Colab, the version of Yellowbricks that comes preinstalled is probably fairly old, you should try to force an update to the latest version of Yellowbricks"
   ]
  },
  {
   "cell_type": "code",
   "execution_count": null,
   "metadata": {},
   "outputs": [],
   "source": [
    "!pip install --upgrade yellowbrick"
   ]
  },
  {
   "cell_type": "code",
   "execution_count": null,
   "metadata": {
    "id": "MSFn9DH6_4Ch"
   },
   "outputs": [],
   "source": [
    "from sklearn.cluster import KMeans\n",
    "from yellowbrick.cluster import KElbowVisualizer"
   ]
  },
  {
   "cell_type": "code",
   "execution_count": null,
   "metadata": {
    "id": "gsFpQiEkAGpX"
   },
   "outputs": [],
   "source": [
    "# fit the KElbow visualizer for the PCA-reduced data\n",
    "\n",
    "### START CODE HERE ###\n",
    "\n",
    "### END CODE HERE ###\n",
    "# the plots may look a little different depending on whether you're doing this locally or in Colab\n",
    "# If the axis labels don't display in Colab, refer to the documentation link above for an example\n",
    "# figure with the axis labels"
   ]
  },
  {
   "cell_type": "code",
   "execution_count": null,
   "metadata": {
    "id": "ZRwEni6yACrE"
   },
   "outputs": [],
   "source": [
    "# do the same thing for the t-SNE-reduced data\n",
    "\n",
    "### START CODE HERE ###\n",
    "\n",
    "### END CODE HERE ###\n",
    "# the plots may look a little different depending on whether you're doing this locally or in Colab\n",
    "# If the axis labels don't display in Colab, refer to the documentation link above for an example\n",
    "# figure with the axis labels"
   ]
  },
  {
   "cell_type": "markdown",
   "metadata": {
    "id": "VFHtdkZSBu01"
   },
   "source": [
    "Discuss with your breakout room partners what you can learn from these Elbow plots."
   ]
  },
  {
   "cell_type": "markdown",
   "metadata": {
    "id": "0IxaAYc863u1"
   },
   "source": [
    "Pick a value of K to use for clustering PCA, based on the plots you have above. Then generate an array `cluster_ids` that labels each datapoint in `X_reduced_PCA` with the cluster ID (0...K-1) that Kmeans assigns to it, when it is fit with that value of K."
   ]
  },
  {
   "cell_type": "code",
   "execution_count": null,
   "metadata": {
    "colab": {
     "base_uri": "https://localhost:8080/"
    },
    "executionInfo": {
     "elapsed": 3117,
     "status": "ok",
     "timestamp": 1628785697547,
     "user": {
      "displayName": "Spencer Kent",
      "photoUrl": "",
      "userId": "07841346171340846448"
     },
     "user_tz": 360
    },
    "id": "_kz0uVfFAGpd",
    "outputId": "75689cc5-49d3-4f29-c50d-455a604ff798"
   },
   "outputs": [
    {
     "name": "stdout",
     "output_type": "stream",
     "text": [
      "The unique cluster ids are  [0 1 2]\n"
     ]
    }
   ],
   "source": [
    "### START CODE HERE \n",
    "cluster_ids = None\n",
    "### END CODE HERE ###\n",
    "print('The unique cluster ids are ', np.unique(cluster_ids))"
   ]
  },
  {
   "cell_type": "markdown",
   "metadata": {
    "id": "MzxNlpDbFXjj"
   },
   "source": [
    "Now we create a new version of the feature-reduced data that has these cluster ids in it, and save this as a .csv file to disk:"
   ]
  },
  {
   "cell_type": "code",
   "execution_count": null,
   "metadata": {
    "colab": {
     "base_uri": "https://localhost:8080/",
     "height": 223
    },
    "executionInfo": {
     "elapsed": 74,
     "status": "ok",
     "timestamp": 1628785701707,
     "user": {
      "displayName": "Spencer Kent",
      "photoUrl": "",
      "userId": "07841346171340846448"
     },
     "user_tz": 360
    },
    "id": "mcbhp5GPFZGJ",
    "outputId": "7a371a04-bc32-4b03-8c5f-5a3614f2fdfc"
   },
   "outputs": [
    {
     "data": {
      "text/html": [
       "<div>\n",
       "<style scoped>\n",
       "    .dataframe tbody tr th:only-of-type {\n",
       "        vertical-align: middle;\n",
       "    }\n",
       "\n",
       "    .dataframe tbody tr th {\n",
       "        vertical-align: top;\n",
       "    }\n",
       "\n",
       "    .dataframe thead th {\n",
       "        text-align: right;\n",
       "    }\n",
       "</style>\n",
       "<table border=\"1\" class=\"dataframe\">\n",
       "  <thead>\n",
       "    <tr style=\"text-align: right;\">\n",
       "      <th></th>\n",
       "      <th>NumOfEventsInJourney</th>\n",
       "      <th>NumSessions</th>\n",
       "      <th>interactionTime</th>\n",
       "      <th>maxPrice</th>\n",
       "      <th>minPrice</th>\n",
       "      <th>NumCart</th>\n",
       "      <th>NumView</th>\n",
       "      <th>NumRemove</th>\n",
       "      <th>InsessionCart</th>\n",
       "      <th>InsessionView</th>\n",
       "      <th>InsessionRemove</th>\n",
       "      <th>Purchase</th>\n",
       "      <th>ClusterID</th>\n",
       "    </tr>\n",
       "  </thead>\n",
       "  <tbody>\n",
       "    <tr>\n",
       "      <th>0</th>\n",
       "      <td>2</td>\n",
       "      <td>2</td>\n",
       "      <td>4749</td>\n",
       "      <td>19.03</td>\n",
       "      <td>19.03</td>\n",
       "      <td>0</td>\n",
       "      <td>1</td>\n",
       "      <td>1</td>\n",
       "      <td>1</td>\n",
       "      <td>2</td>\n",
       "      <td>6</td>\n",
       "      <td>0</td>\n",
       "      <td>0</td>\n",
       "    </tr>\n",
       "    <tr>\n",
       "      <th>1</th>\n",
       "      <td>1</td>\n",
       "      <td>1</td>\n",
       "      <td>0</td>\n",
       "      <td>4.60</td>\n",
       "      <td>4.60</td>\n",
       "      <td>0</td>\n",
       "      <td>1</td>\n",
       "      <td>0</td>\n",
       "      <td>0</td>\n",
       "      <td>1</td>\n",
       "      <td>0</td>\n",
       "      <td>0</td>\n",
       "      <td>0</td>\n",
       "    </tr>\n",
       "    <tr>\n",
       "      <th>2</th>\n",
       "      <td>1</td>\n",
       "      <td>1</td>\n",
       "      <td>0</td>\n",
       "      <td>35.71</td>\n",
       "      <td>35.71</td>\n",
       "      <td>0</td>\n",
       "      <td>1</td>\n",
       "      <td>0</td>\n",
       "      <td>0</td>\n",
       "      <td>1</td>\n",
       "      <td>0</td>\n",
       "      <td>0</td>\n",
       "      <td>0</td>\n",
       "    </tr>\n",
       "    <tr>\n",
       "      <th>3</th>\n",
       "      <td>1</td>\n",
       "      <td>1</td>\n",
       "      <td>0</td>\n",
       "      <td>2.94</td>\n",
       "      <td>2.94</td>\n",
       "      <td>1</td>\n",
       "      <td>0</td>\n",
       "      <td>0</td>\n",
       "      <td>13</td>\n",
       "      <td>13</td>\n",
       "      <td>16</td>\n",
       "      <td>0</td>\n",
       "      <td>0</td>\n",
       "    </tr>\n",
       "    <tr>\n",
       "      <th>4</th>\n",
       "      <td>1</td>\n",
       "      <td>1</td>\n",
       "      <td>0</td>\n",
       "      <td>5.22</td>\n",
       "      <td>5.22</td>\n",
       "      <td>0</td>\n",
       "      <td>1</td>\n",
       "      <td>0</td>\n",
       "      <td>0</td>\n",
       "      <td>3</td>\n",
       "      <td>0</td>\n",
       "      <td>0</td>\n",
       "      <td>0</td>\n",
       "    </tr>\n",
       "  </tbody>\n",
       "</table>\n",
       "</div>"
      ],
      "text/plain": [
       "   NumOfEventsInJourney  NumSessions  ...  Purchase  ClusterID\n",
       "0                     2            2  ...         0          0\n",
       "1                     1            1  ...         0          0\n",
       "2                     1            1  ...         0          0\n",
       "3                     1            1  ...         0          0\n",
       "4                     1            1  ...         0          0\n",
       "\n",
       "[5 rows x 13 columns]"
      ]
     },
     "execution_count": 24,
     "metadata": {
      "tags": []
     },
     "output_type": "execute_result"
    }
   ],
   "source": [
    "selected_columns = ['NumOfEventsInJourney', 'NumSessions', 'interactionTime', 'maxPrice',\n",
    "       'minPrice', 'NumCart', 'NumView', 'NumRemove', 'InsessionCart',\n",
    "       'InsessionView', 'InsessionRemove']\n",
    "#^ these were columns I ended up selecting after the first step of Random Forest feature pruning, \n",
    "# you could change these to whatever you ended up using\n",
    "temp_df = pd.DataFrame(df[selected_columns])\n",
    "temp_df['Purchase'] = df.iloc[:,-1]\n",
    "temp_df['ClusterID'] = cluster_ids\n",
    "temp_df.head()"
   ]
  },
  {
   "cell_type": "code",
   "execution_count": null,
   "metadata": {
    "id": "8Zg8dtuLAGpn"
   },
   "outputs": [],
   "source": [
    "temp_df.to_csv('Clustered_data_cosmetics.csv', index=False)"
   ]
  },
  {
   "cell_type": "markdown",
   "metadata": {
    "id": "HB-SZFqUAGpr"
   },
   "source": [
    "## Task 3: Visualize the clusters [Instructor Led]\n",
    "Tutorial on Tensorboard's embedding projector + Colab: https://colab.research.google.com/drive/1-PUVjf4eNO8QzF27lbBg6OT-yTNlBgD7"
   ]
  },
  {
   "cell_type": "code",
   "execution_count": null,
   "metadata": {
    "id": "vmsreBzSAGpr"
   },
   "outputs": [],
   "source": [
    "#Load the data with clustering labels\n",
    "X_train = pd.read_csv(\"Clustered_data_cosmetics.csv\")\n",
    "X=X_train.iloc[:,0:-2].values\n",
    "X_train.head()"
   ]
  },
  {
   "cell_type": "code",
   "execution_count": null,
   "metadata": {
    "id": "_Ro7_dTyAGpw"
   },
   "outputs": [],
   "source": [
    "#version 1\n",
    "def register_embedding(embedding_tensor_name, meta_data_fname, log_dir):\n",
    "    config = projector.ProjectorConfig()\n",
    "    embedding = config.embeddings.add()\n",
    "    embedding.tensor_name = embedding_tensor_name\n",
    "    embedding.metadata_path = meta_data_fname\n",
    "    projector.visualize_embeddings(log_dir, config)\n",
    "\n",
    "def save_labels_tsv(labels, filepath, log_dir):\n",
    "    with open(os.path.join(log_dir, filepath), 'w') as f:\n",
    "        for label in labels:\n",
    "            f.write('{}\\n'.format(label))\n"
   ]
  },
  {
   "cell_type": "markdown",
   "metadata": {
    "id": "e2UY3WNyK6z0"
   },
   "source": [
    "We need to create a directory where we can store logs for tensorboard to use"
   ]
  },
  {
   "cell_type": "code",
   "execution_count": null,
   "metadata": {
    "id": "pISugJ7TAGot"
   },
   "outputs": [],
   "source": [
    "## Get working directory\n",
    "PATH = os.getcwd()\n",
    "## Path to save the embedding and checkpoints generated\n",
    "os.mkdir(PATH + '/project-tensorboard/')\n",
    "LOG_DIR = PATH + '/project-tensorboard/log-1'\n",
    "os.mkdir(LOG_DIR)"
   ]
  },
  {
   "cell_type": "code",
   "execution_count": null,
   "metadata": {
    "id": "E_a-gke2AGpy"
   },
   "outputs": [],
   "source": [
    "META_DATA_FNAME = 'meta_cos_reduction1.tsv'  # Labels will be stored here\n",
    "EMBEDDINGS_TENSOR_NAME = 'sample_data_cos_reduction1'\n",
    "EMBEDDINGS_FPATH = os.path.join(LOG_DIR, EMBEDDINGS_TENSOR_NAME + '.ckpt')\n",
    "STEP = 0\n",
    "\n",
    "register_embedding(EMBEDDINGS_TENSOR_NAME, META_DATA_FNAME, LOG_DIR)\n",
    "save_labels_tsv(cluster_ids, META_DATA_FNAME, LOG_DIR) #version 1"
   ]
  },
  {
   "cell_type": "code",
   "execution_count": null,
   "metadata": {
    "id": "YziMhdGEAGp1"
   },
   "outputs": [],
   "source": [
    "tf.compat.v1.disable_eager_execution()\n",
    "tensor_embeddings = tf.Variable(X, name=EMBEDDINGS_TENSOR_NAME)\n",
    "sess = tf.compat.v1.InteractiveSession()\n",
    "sess.run(tf.compat.v1.global_variables_initializer())\n",
    "saver = tf.compat.v1.train.Saver()\n",
    "saver.save(sess, EMBEDDINGS_FPATH, STEP)\n",
    "sess.close()"
   ]
  },
  {
   "cell_type": "markdown",
   "metadata": {
    "id": "ta5fQ-gNPmJR"
   },
   "source": [
    "If you're running this notebook locally, you can start tensorboard from the command line `tensorboard --logdir <path to the log directory>`. \n",
    "\n",
    "But to use it *embedded in a Colab notebook* you have to do the following"
   ]
  },
  {
   "cell_type": "code",
   "execution_count": null,
   "metadata": {
    "id": "NPDjKWuAPTIc"
   },
   "outputs": [],
   "source": [
    "try:\n",
    "  # %tensorflow_version only exists in Colab.\n",
    "  %tensorflow_version 2.x\n",
    "except Exception:\n",
    "  pass\n",
    "\n",
    "%load_ext tensorboard"
   ]
  },
  {
   "cell_type": "code",
   "execution_count": null,
   "metadata": {
    "id": "0VOu2Q4QPFrA"
   },
   "outputs": [],
   "source": [
    "%tensorboard --logdir /content/project-tensorboard/log-1/"
   ]
  },
  {
   "cell_type": "code",
   "execution_count": null,
   "metadata": {
    "id": "-WdbFR1qAGp3"
   },
   "outputs": [],
   "source": [
    "#Attach an image of the optimal clusters and their relative position in t-SNE"
   ]
  },
  {
   "cell_type": "markdown",
   "metadata": {
    "id": "SgmFyvbMAGp5"
   },
   "source": [
    "### Task 4: Analysis of clusters.\n",
    "Now that the records have been clustered, do the following 2 tasks:\n",
    "1. Do the different clusters vary in their purchase ratio? If so by how much?\n",
    "2. Plot the discriminating charecteristics of each feature to separate purchase vs not-purchase events. You could do this many ways, it's up to you. One suggestion we'll give is to use a seaborn distplot on each feature separately. You can do this one cluster at a time to see if there are any big differences between the distributions of feature values for different clusters."
   ]
  },
  {
   "cell_type": "code",
   "execution_count": null,
   "metadata": {
    "id": "MuCS3KK1AGp6"
   },
   "outputs": [],
   "source": [
    "column_values = X_train[\"ClusterID\"].values.ravel()\n",
    "unique_cluster_ids_unsorted = np.array(pd.unique(column_values))\n",
    "unique_cluster_ids = np.sort(unique_cluster_ids_unsorted)"
   ]
  },
  {
   "cell_type": "markdown",
   "metadata": {
    "id": "4l93Jjag-QSu"
   },
   "source": [
    "### Exercise: For each cluster, calculate the representation percentage (i.e. what percentage of the dataset's samples belong to that cluster) and purchase percentage (i.e. what percentage of samples in each cluster resulted in a purchase)"
   ]
  },
  {
   "cell_type": "code",
   "execution_count": null,
   "metadata": {
    "id": "HJQDN9KKAGp8"
   },
   "outputs": [],
   "source": [
    "### START CODE HERE ###\n",
    "\n",
    "### END CODE HERE ###"
   ]
  },
  {
   "cell_type": "markdown",
   "metadata": {
    "id": "IbjFgGXsWTTH"
   },
   "source": [
    "Then, plot the discriminating charecteristics of each feature to try and separate purchase vs not-purchase events"
   ]
  },
  {
   "cell_type": "markdown",
   "metadata": {
    "id": "2FnySfsUAIZt"
   },
   "source": [
    "Discuss your results with your colleagues.\n"
   ]
  }
 ],
 "metadata": {
  "colab": {
   "collapsed_sections": [],
   "name": "week3_V1.ipynb",
   "provenance": []
  },
  "kernelspec": {
   "display_name": "Python 3",
   "language": "python",
   "name": "python3"
  },
  "language_info": {
   "codemirror_mode": {
    "name": "ipython",
    "version": 3
   },
   "file_extension": ".py",
   "mimetype": "text/x-python",
   "name": "python",
   "nbconvert_exporter": "python",
   "pygments_lexer": "ipython3",
   "version": "3.8.3"
  }
 },
 "nbformat": 4,
 "nbformat_minor": 4
}
